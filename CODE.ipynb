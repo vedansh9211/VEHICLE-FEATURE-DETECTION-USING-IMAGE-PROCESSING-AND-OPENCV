{
 "cells": [
  {
   "cell_type": "markdown",
   "id": "4894f1ea",
   "metadata": {},
   "source": [
    "## Import Libraries"
   ]
  },
  {
   "cell_type": "code",
   "execution_count": null,
   "id": "e72304f8",
   "metadata": {},
   "outputs": [],
   "source": [
    "import numpy as np\n",
    "import os\n",
    "import tarfile\n",
    "import zipfile\n",
    "import sys\n",
    "import cv2\n",
    "import csv\n",
    "import time\n",
    "\n",
    "import six.moves.urllib as urllib\n",
    "import tensorflow as tf\n",
    "from matplotlib import pyplot as plt\n",
    "from collections import defaultdict\n",
    "\n",
    "from io import StringIO\n",
    "from PIL import Image\n",
    "\n",
    "from utils import label_map_util\n",
    "from utils import visualization_utils as vis_util"
   ]
  },
  {
   "cell_type": "markdown",
   "id": "40e96721",
   "metadata": {},
   "source": [
    "## Initialize .csv"
   ]
  },
  {
   "cell_type": "code",
   "execution_count": null,
   "id": "ce9797f4",
   "metadata": {},
   "outputs": [],
   "source": [
    "line_c = 'Vehicle Type/Size, Vehicle Color, Vehicle Movement Direction, Vehicle Speed (km/h)'\n",
    "file1 = open('traffic.csv', 'w')\n",
    "x = [line_c.split(',')]\n",
    "try:\n",
    "    writer = csv.writer(file1)\n",
    "    writer.writerows(x)\n",
    "finally:\n",
    "    file1.close()"
   ]
  },
  {
   "cell_type": "markdown",
   "id": "ee209246",
   "metadata": {},
   "source": [
    "## \"SSD with Mobilenet\" model"
   ]
  },
  {
   "cell_type": "code",
   "execution_count": null,
   "id": "5d6e1bac",
   "metadata": {},
   "outputs": [],
   "source": [
    "db = 'http://download.tensorflow.org/models/object_detection/'\n",
    "\n",
    "nom = 'ssd_coco'\n",
    "fom = nom + '.tar.gz'"
   ]
  },
  {
   "cell_type": "markdown",
   "id": "c6553060",
   "metadata": {},
   "source": [
    "## Path to frozen detection graph. This is the actual model that is used for the object detection.\\"
   ]
  },
  {
   "cell_type": "code",
   "execution_count": null,
   "id": "36117bfd",
   "metadata": {},
   "outputs": [],
   "source": [
    "ckpt = nom + '/fig.pb'"
   ]
  },
  {
   "cell_type": "markdown",
   "id": "182a5cd0",
   "metadata": {},
   "source": [
    "## List of the strings that is used to add correct label for each box."
   ]
  },
  {
   "cell_type": "code",
   "execution_count": null,
   "id": "e89cf7ac",
   "metadata": {},
   "outputs": [],
   "source": [
    "pl = os.path.join('data', 'lm_mscoco.pbtxt')\n",
    "\n",
    "number_classes = 90"
   ]
  },
  {
   "cell_type": "markdown",
   "id": "2064ef2d",
   "metadata": {},
   "source": [
    "## Load a (frozen) Tensorflow model into memory"
   ]
  },
  {
   "cell_type": "code",
   "execution_count": null,
   "id": "3f21bfdc",
   "metadata": {},
   "outputs": [],
   "source": [
    "graph_d = tf.Graph()\n",
    "with graph_d.as_default():\n",
    "    ogd = tf.GraphDef()\n",
    "    \n",
    "    file2 = tf.gfile.GFile(ckpt, 'rb')\n",
    "    try:\n",
    "        graph_s = file2.read()\n",
    "        ogd.ParseFromString(graph_s)\n",
    "        tf.import_graph_def(ogd, name='')\n",
    "    finally:\n",
    "        file2.close()"
   ]
  },
  {
   "cell_type": "markdown",
   "id": "0b6cb5b3",
   "metadata": {},
   "source": [
    "## Loading label map"
   ]
  },
  {
   "cell_type": "code",
   "execution_count": null,
   "id": "2b10d95a",
   "metadata": {},
   "outputs": [],
   "source": [
    "map_l = label_map_util.load_labelmap(pl)\n",
    "cat = label_map_util.convert_label_map_to_categories(map_l, max_num_classes=number_classes, use_display_name=True)\n",
    "cat_i = label_map_util.create_category_index(cat)"
   ]
  },
  {
   "cell_type": "markdown",
   "id": "1ccbd974",
   "metadata": {},
   "source": [
    "## Input Video"
   ]
  },
  {
   "cell_type": "code",
   "execution_count": null,
   "id": "167e9a83",
   "metadata": {},
   "outputs": [],
   "source": [
    "video = cv2.VideoCapture('video.mp4')"
   ]
  },
  {
   "cell_type": "markdown",
   "id": "b0923848",
   "metadata": {},
   "source": [
    "# Detection"
   ]
  },
  {
   "cell_type": "code",
   "execution_count": null,
   "id": "8835fd4e",
   "metadata": {},
   "outputs": [],
   "source": [
    "def detect_object():\n",
    "    t_vehicle = 0\n",
    "    speed_of_vehicle = '..waiting..'\n",
    "    direction_of_vehicle = '..waiting..'\n",
    "    size_of_vehicle = '..waiting..'\n",
    "    color_of_vehicle = '..waiting..'\n",
    "    with graph_d.as_default():\n",
    "        file3 = tf.Session(graph=graph_d)\n",
    "        try:\n",
    "\n",
    "            tensor_im = graph_d.get_tensor_by_name('image_tensor:0')\n",
    "\n",
    "            box_d = graph_d.get_tensor_by_name('detection_boxes:0')\n",
    "\n",
    "            score_d = graph_d.get_tensor_by_name('detection_scores:0')\n",
    "            class_d = graph_d.get_tensor_by_name('detection_classes:0')\n",
    "            num_d = graph_d.get_tensor_by_name('num_detections:0')\n",
    "\n",
    "            while video.isOpened():\n",
    "                (re, fr) = video.read()\n",
    "\n",
    "                if not re:\n",
    "                    print ('... end of video ...')\n",
    "                    break\n",
    "\n",
    "                fr_i = fr\n",
    "\n",
    "                expand_im_np = np.expand_dims(fr_i, axis=0)\n",
    "\n",
    "                (boxes, scores, classes, num) = \\\n",
    "                    file3.run([box_d, score_d,\n",
    "                             class_d, num_d],\n",
    "                             feed_dict={tensor_im: expand_im_np})\n",
    "\n",
    "                (count, line_c) = \\\n",
    "                    vis_util.visualize_boxes_and_labels_on_image_array(\n",
    "                    video.get(1),\n",
    "                    fr_i,\n",
    "                    np.squeeze(boxes),\n",
    "                    np.squeeze(classes).astype(np.int32),\n",
    "                    np.squeeze(scores),\n",
    "                    cat_i,\n",
    "                    use_normalized_coordinates=True,\n",
    "                    line_thickness=4,\n",
    "                    )\n",
    "\n",
    "                t_vehicle = t_vehicle + count\n",
    "\n",
    "                font = cv2.FONT_HERSHEY_SIMPLEX\n",
    "                cv2.putText(\n",
    "                    fr_i,\n",
    "                    'Detected Vehicles: ' + str(t_vehicle),\n",
    "                    (10, 35),\n",
    "                    font,\n",
    "                    0.8,\n",
    "                    (0, 0xFF, 0xFF),\n",
    "                    2,\n",
    "                    cv2.FONT_HERSHEY_SIMPLEX,\n",
    "                    )\n",
    "\n",
    "                if count == 1:\n",
    "                    cv2.line(fr_i, (0, 200), (640, 200), (0, 0xFF, 0), 5)\n",
    "                else:\n",
    "                    cv2.line(fr_i, (0, 200), (640, 200), (0, 0, 0xFF), 5)\n",
    "\n",
    "                cv2.rectangle(fr_i, (10, 275), (230, 337), (180, 132, 109), -1)\n",
    "                cv2.putText(\n",
    "                    fr_i,\n",
    "                    'ROI Line',\n",
    "                    (545, 190),\n",
    "                    font,\n",
    "                    0.6,\n",
    "                    (0, 0, 0xFF),\n",
    "                    2,\n",
    "                    cv2.LINE_AA,\n",
    "                    )\n",
    "                cv2.putText(\n",
    "                    fr_i,\n",
    "                    'LAST PASSED VEHICLE INFO',\n",
    "                    (11, 290),\n",
    "                    font,\n",
    "                    0.5,\n",
    "                    (0xFF, 0xFF, 0xFF),\n",
    "                    1,\n",
    "                    cv2.FONT_HERSHEY_SIMPLEX,\n",
    "                    )\n",
    "                cv2.putText(\n",
    "                    fr_i,\n",
    "                    '-Movement Direction: ' + direction_of_vehicle,\n",
    "                    (14, 302),\n",
    "                    font,\n",
    "                    0.4,\n",
    "                    (0xFF, 0xFF, 0xFF),\n",
    "                    1,\n",
    "                    cv2.FONT_HERSHEY_COMPLEX_SMALL,\n",
    "                    )\n",
    "                cv2.putText(\n",
    "                    fr_i,\n",
    "                    '-Speed(km/h): ' + speed_of_vehicle,\n",
    "                    (14, 312),\n",
    "                    font,\n",
    "                    0.4,\n",
    "                    (0xFF, 0xFF, 0xFF),\n",
    "                    1,\n",
    "                    cv2.FONT_HERSHEY_COMPLEX_SMALL,\n",
    "                    )\n",
    "                cv2.putText(\n",
    "                    fr_i,\n",
    "                    '-Color: ' + color_of_vehicle,\n",
    "                    (14, 322),\n",
    "                    font,\n",
    "                    0.4,\n",
    "                    (0xFF, 0xFF, 0xFF),\n",
    "                    1,\n",
    "                    cv2.FONT_HERSHEY_COMPLEX_SMALL,\n",
    "                    )\n",
    "                cv2.putText(\n",
    "                    fr_i,\n",
    "                    '-Vehicle Size/Type: ' + size_of_vehicle,\n",
    "                    (14, 332),\n",
    "                    font,\n",
    "                    0.4,\n",
    "                    (0xFF, 0xFF, 0xFF),\n",
    "                    1,\n",
    "                    cv2.FONT_HERSHEY_COMPLEX_SMALL,\n",
    "                    )\n",
    "\n",
    "                cv2.imshow('vehicle detection', fr_i)\n",
    "\n",
    "                if cv2.waitKey(1) & 0xFF == ord('q'):\n",
    "                    break\n",
    "\n",
    "                if line_c != 'not_available':\n",
    "                    file4 = open('traffic.csv', 'a')\n",
    "                    y = [line_c.split(',')]\n",
    "                    try:\n",
    "                        writer = csv.writer(file4)\n",
    "                        (size_of_vehicle, color_of_vehicle, direction_of_vehicle, speed_of_vehicle) = \\\n",
    "                            line_c.split(',')\n",
    "                        writer.writerows(y)\n",
    "                    finally:\n",
    "                        file4.close()\n",
    "            video.release()\n",
    "            cv2.destroyAllWindows()\n",
    "            \n",
    "        finally:\n",
    "            file3.close()"
   ]
  },
  {
   "cell_type": "code",
   "execution_count": null,
   "id": "577ef5a4",
   "metadata": {},
   "outputs": [],
   "source": [
    "detect_object()"
   ]
  },
  {
   "cell_type": "code",
   "execution_count": null,
   "id": "398ab497",
   "metadata": {},
   "outputs": [],
   "source": []
  }
 ],
 "metadata": {
  "kernelspec": {
   "display_name": "Python 3",
   "language": "python",
   "name": "python3"
  },
  "language_info": {
   "codemirror_mode": {
    "name": "ipython",
    "version": 3
   },
   "file_extension": ".py",
   "mimetype": "text/x-python",
   "name": "python",
   "nbconvert_exporter": "python",
   "pygments_lexer": "ipython3",
   "version": "3.6.13"
  }
 },
 "nbformat": 4,
 "nbformat_minor": 5
}
